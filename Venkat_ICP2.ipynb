{
  "nbformat": 4,
  "nbformat_minor": 0,
  "metadata": {
    "colab": {
      "provenance": []
    },
    "kernelspec": {
      "name": "python3",
      "display_name": "Python 3"
    },
    "language_info": {
      "name": "python"
    }
  },
  "cells": [
    {
      "cell_type": "code",
      "execution_count": 1,
      "metadata": {
        "colab": {
          "base_uri": "https://localhost:8080/"
        },
        "id": "hilCw13hIQ8F",
        "outputId": "c90797f6-fd58-4974-8d11-c46347e5e9f5"
      },
      "outputs": [
        {
          "output_type": "stream",
          "name": "stdout",
          "text": [
            "Few benefits as full time employee.\n",
            "Average salary: 148750.0\n"
          ]
        }
      ],
      "source": [
        "class Employee:\n",
        "\n",
        "    # Creating a data member to count the number of Employees\n",
        "\n",
        "    no_of_employees = 0\n",
        "    # Initializing name, family, salary, department\n",
        "\n",
        "    def __init__(self, name, family_name, salary, department):\n",
        "        self.__name = name\n",
        "        self.__family_name = family_name\n",
        "        self.salary = salary\n",
        "        self.__department = department\n",
        "        Employee.no_of_employees += 1\n",
        "     #Creating a function to average salary\n",
        "    @staticmethod\n",
        "    def average_salary(employees):\n",
        "\n",
        "        sum = 0\n",
        "        for employee in employees:\n",
        "            sum += employee.salary\n",
        "        return sum / Employee.no_of_employees\n",
        "      #Creating a Fulltime Employee class\n",
        "class FulltimeEmployee(Employee):\n",
        "\n",
        "    def __init__(self, name, family_name, salary, department):\n",
        "        super().__init__(name, family_name, salary, department)\n",
        "\n",
        "    def full_time_benefits(self):\n",
        "        print(\"Few benefits as full time employee.\")\n",
        "\n",
        "# Creating the instances of Fulltime Employee class and Employee class and also calling their member functions.\n",
        "\n",
        "def main():\n",
        "    employees = []\n",
        "    fte1 = FulltimeEmployee(\"Employee1\", \"FamilyName1\", 120000, \"Management\")\n",
        "    fte1.full_time_benefits()\n",
        "    employees.append(fte1)\n",
        "    fte2 = FulltimeEmployee(\"Employee2\", \"FamilyName2\", 180000, \"RnD\")\n",
        "    employees.append(fte2)\n",
        "    emp1 = Employee(\"Employee3\", \"FamilyName3\", 160000, \"Marketing\")\n",
        "    employees.append(emp1)\n",
        "    emp2 = Employee(\"Employee4\", \"FamilyName4\", 135000, \"HR\")\n",
        "    employees.append(emp2)\n",
        "    print(\"Average salary:\", FulltimeEmployee.average_salary(employees))\n",
        "\n",
        "\n",
        "if __name__ == \"__main__\":\n",
        "    main()"
      ]
    },
    {
      "cell_type": "code",
      "source": [
        "import numpy as np\n",
        "\n",
        "                                   #Creating a random vector of size 20\n",
        "v = np.random.uniform(1, 20, 20)\n",
        "\n",
        "v = v. reshape(4, 5)  # Reshape the array to 4 by 5\n",
        "\n",
        "print(v)\n",
        "\n",
        "v[np.arange(4), v.argmax(axis=1)]=0 # Replace the max value with 0 (axis=1)\n",
        "print(v)\n"
      ],
      "metadata": {
        "colab": {
          "base_uri": "https://localhost:8080/"
        },
        "id": "gXMkVt_hJg-k",
        "outputId": "c5e57e72-1065-4e93-bebd-9a173b745bbb"
      },
      "execution_count": 2,
      "outputs": [
        {
          "output_type": "stream",
          "name": "stdout",
          "text": [
            "[[10.52197924  8.93675244 15.94162626  6.01497654 17.34803174]\n",
            " [ 7.38469415 19.58379573  4.40192338  2.02576429 10.81107032]\n",
            " [15.00459081 18.05654534 18.38967108  5.02445317 12.0469258 ]\n",
            " [16.02562844 13.25567514  1.46568646  9.16677447  8.10224599]]\n",
            "[[10.52197924  8.93675244 15.94162626  6.01497654  0.        ]\n",
            " [ 7.38469415  0.          4.40192338  2.02576429 10.81107032]\n",
            " [15.00459081 18.05654534  0.          5.02445317 12.0469258 ]\n",
            " [ 0.         13.25567514  1.46568646  9.16677447  8.10224599]]\n"
          ]
        }
      ]
    }
  ]
}